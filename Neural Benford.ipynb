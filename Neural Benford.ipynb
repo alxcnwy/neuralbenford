{
 "cells": [
  {
   "cell_type": "code",
   "execution_count": null,
   "metadata": {
    "collapsed": true
   },
   "outputs": [],
   "source": [
    "# Adapted from https://keras.io/examples/vision/mnist_convnet/"
   ]
  },
  {
   "cell_type": "code",
   "execution_count": 6,
   "metadata": {
    "ExecuteTime": {
     "end_time": "2020-08-17T20:11:04.804805Z",
     "start_time": "2020-08-17T20:11:04.340352Z"
    },
    "collapsed": true
   },
   "outputs": [],
   "source": [
    "import numpy as np\n",
    "from tensorflow import keras\n",
    "from tensorflow.keras import layers\n",
    "import pandas as pd\n",
    "import matplotlib.pyplot as plt\n",
    "%matplotlib inline"
   ]
  },
  {
   "cell_type": "markdown",
   "metadata": {},
   "source": [
    "# Create DataFrame for Benford's Law Distribution & define helper functions"
   ]
  },
  {
   "cell_type": "code",
   "execution_count": 96,
   "metadata": {
    "ExecuteTime": {
     "end_time": "2020-08-17T20:28:57.884609Z",
     "start_time": "2020-08-17T20:28:57.867634Z"
    },
    "collapsed": true
   },
   "outputs": [],
   "source": [
    "# create dataframe with benford's law distribution\n",
    "benford = pd.DataFrame.from_dict({\n",
    "    '1': 30.1,\n",
    "    '2': 17.6,\n",
    "    '3': 12.5,\n",
    "    '4': 9.7,\n",
    "    '5': 7.9,\n",
    "    '6': 6.7,\n",
    "    '7': 5.8,\n",
    "    '8': 5.1,\n",
    "    '9': 4.6\n",
    "}, orient= 'index')\n",
    "benford.columns = ['benford']"
   ]
  },
  {
   "cell_type": "code",
   "execution_count": null,
   "metadata": {
    "collapsed": true
   },
   "outputs": [],
   "source": [
    "def get_leading_digit(x):\n",
    "    '''\n",
    "    Remove negative sign and get first non-zero digit (ignoring decimal) - used with dataframe of weight values to get their leading digit\n",
    "    '''\n",
    "    x = str(abs(x))\n",
    "    if x[0] == '0':\n",
    "        return str(int(x.split(\".\")[1]))[0]\n",
    "    else:\n",
    "        return x.split(\".\")[0]"
   ]
  },
  {
   "cell_type": "code",
   "execution_count": null,
   "metadata": {
    "collapsed": true
   },
   "outputs": [],
   "source": [
    "def plot_benford_for_first_layer(title):\n",
    "    leading_digits = pd.DataFrame(model.layers[0].get_weights()[0].flatten())\n",
    "    leading_digits.columns = ['weight']\n",
    "    leading_digits['leading_digit'] = leading_digits['weight'].apply(get_leading_digit)\n",
    "    leading_digits = pd.DataFrame(100 * leading_digits['leading_digit'].value_counts()/len(leading_digits))\n",
    "\n",
    "    df = pd.merge(benford, leading_digits, left_index=True, right_index=True, how='left')\n",
    "    df['deviation'] = df['leading_digit'] - df['benford']\n",
    "\n",
    "    df[['leading_digit','benford']].plot(kind='bar', title=title, figsize = (20,10))"
   ]
  },
  {
   "cell_type": "code",
   "execution_count": 156,
   "metadata": {
    "ExecuteTime": {
     "end_time": "2020-08-17T20:58:48.648776Z",
     "start_time": "2020-08-17T20:58:48.621223Z"
    },
    "collapsed": true
   },
   "outputs": [],
   "source": [
    "def plot_benford_for_all_layers(title):\n",
    "    # gather all weights in the model\n",
    "    weights = []\n",
    "    for layer in model.layers:\n",
    "        if len(layer.get_weights()) > 0:\n",
    "            weights.extend(layer.get_weights()[0].flatten())\n",
    "\n",
    "    # convert weights to dataframe\n",
    "    leading_digits = pd.DataFrame(weights)\n",
    "    leading_digits.columns = ['weight']\n",
    "    leading_digits['leading_digit'] = leading_digits['weight'].apply(get_leading_digit)\n",
    "    leading_digits = pd.DataFrame(100 * leading_digits['leading_digit'].value_counts()/len(leading_digits))\n",
    "\n",
    "    # merge with benford's law distribution\n",
    "    df = pd.merge(benford, leading_digits, left_index=True, right_index=True, how='left')\n",
    "    df['deviation'] = df['leading_digit'] - df['benford']\n",
    "\n",
    "    # plot\n",
    "    df[['leading_digit','benford']].plot(kind='bar', title=title, figsize = (20,10))"
   ]
  },
  {
   "cell_type": "markdown",
   "metadata": {},
   "source": [
    "# Define Keras Model"
   ]
  },
  {
   "cell_type": "code",
   "execution_count": 2,
   "metadata": {
    "ExecuteTime": {
     "end_time": "2020-08-17T20:09:19.451591Z",
     "start_time": "2020-08-17T20:09:18.814280Z"
    }
   },
   "outputs": [
    {
     "name": "stdout",
     "output_type": "stream",
     "text": [
      "x_train shape: (60000, 28, 28, 1)\n",
      "60000 train samples\n",
      "10000 test samples\n"
     ]
    }
   ],
   "source": [
    "# Model / data parameters\n",
    "num_classes = 10\n",
    "input_shape = (28, 28, 1)\n",
    "\n",
    "# the data, split between train and test sets\n",
    "(x_train, y_train), (x_test, y_test) = keras.datasets.mnist.load_data()\n",
    "\n",
    "# Scale images to the [0, 1] range\n",
    "x_train = x_train.astype(\"float32\") / 255\n",
    "x_test = x_test.astype(\"float32\") / 255\n",
    "# Make sure images have shape (28, 28, 1)\n",
    "x_train = np.expand_dims(x_train, -1)\n",
    "x_test = np.expand_dims(x_test, -1)\n",
    "print(\"x_train shape:\", x_train.shape)\n",
    "print(x_train.shape[0], \"train samples\")\n",
    "print(x_test.shape[0], \"test samples\")\n",
    "\n",
    "\n",
    "# convert class vectors to binary class matrices\n",
    "y_train = keras.utils.to_categorical(y_train, num_classes)\n",
    "y_test = keras.utils.to_categorical(y_test, num_classes)"
   ]
  },
  {
   "cell_type": "code",
   "execution_count": 158,
   "metadata": {
    "ExecuteTime": {
     "end_time": "2020-08-17T20:59:14.235623Z",
     "start_time": "2020-08-17T20:59:14.033048Z"
    }
   },
   "outputs": [
    {
     "name": "stdout",
     "output_type": "stream",
     "text": [
      "Model: \"sequential_1\"\n",
      "_________________________________________________________________\n",
      "Layer (type)                 Output Shape              Param #   \n",
      "=================================================================\n",
      "conv2d_2 (Conv2D)            (None, 26, 26, 32)        320       \n",
      "_________________________________________________________________\n",
      "max_pooling2d_2 (MaxPooling2 (None, 13, 13, 32)        0         \n",
      "_________________________________________________________________\n",
      "conv2d_3 (Conv2D)            (None, 11, 11, 64)        18496     \n",
      "_________________________________________________________________\n",
      "max_pooling2d_3 (MaxPooling2 (None, 5, 5, 64)          0         \n",
      "_________________________________________________________________\n",
      "flatten_1 (Flatten)          (None, 1600)              0         \n",
      "_________________________________________________________________\n",
      "dropout_1 (Dropout)          (None, 1600)              0         \n",
      "_________________________________________________________________\n",
      "dense_1 (Dense)              (None, 10)                16010     \n",
      "=================================================================\n",
      "Total params: 34,826\n",
      "Trainable params: 34,826\n",
      "Non-trainable params: 0\n",
      "_________________________________________________________________\n"
     ]
    }
   ],
   "source": [
    "model = keras.Sequential(\n",
    "    [\n",
    "        keras.Input(shape=input_shape),\n",
    "        layers.Conv2D(32, kernel_size=(3, 3), activation=\"relu\"),\n",
    "        layers.MaxPooling2D(pool_size=(2, 2)),\n",
    "        layers.Conv2D(64, kernel_size=(3, 3), activation=\"relu\"),\n",
    "        layers.MaxPooling2D(pool_size=(2, 2)),\n",
    "        layers.Flatten(),\n",
    "        layers.Dropout(0.5),\n",
    "        layers.Dense(num_classes, activation=\"softmax\"),\n",
    "    ]\n",
    ")\n",
    "\n",
    "model.summary()"
   ]
  },
  {
   "cell_type": "code",
   "execution_count": 137,
   "metadata": {
    "ExecuteTime": {
     "end_time": "2020-08-17T20:46:31.108079Z",
     "start_time": "2020-08-17T20:40:13.739244Z"
    }
   },
   "outputs": [
    {
     "name": "stdout",
     "output_type": "stream",
     "text": [
      "Train on 54000 samples, validate on 6000 samples\n",
      "Epoch 1/15\n",
      "54000/54000 [==============================] - 25s 454us/sample - loss: 0.1087 - acc: 0.9669 - val_loss: 0.0528 - val_acc: 0.9858\n",
      "Epoch 2/15\n",
      "54000/54000 [==============================] - 19s 356us/sample - loss: 0.0808 - acc: 0.9750 - val_loss: 0.0429 - val_acc: 0.9887\n",
      "Epoch 3/15\n",
      "54000/54000 [==============================] - 23s 418us/sample - loss: 0.0679 - acc: 0.9788 - val_loss: 0.0399 - val_acc: 0.9887\n",
      "Epoch 4/15\n",
      "54000/54000 [==============================] - 23s 432us/sample - loss: 0.0599 - acc: 0.9817 - val_loss: 0.0420 - val_acc: 0.9862\n",
      "Epoch 5/15\n",
      "54000/54000 [==============================] - 24s 444us/sample - loss: 0.0531 - acc: 0.9834 - val_loss: 0.0377 - val_acc: 0.9888\n",
      "Epoch 6/15\n",
      "54000/54000 [==============================] - 33s 615us/sample - loss: 0.0494 - acc: 0.9843 - val_loss: 0.0355 - val_acc: 0.9913\n",
      "Epoch 7/15\n",
      "54000/54000 [==============================] - 21s 396us/sample - loss: 0.0453 - acc: 0.9853 - val_loss: 0.0315 - val_acc: 0.9918\n",
      "Epoch 8/15\n",
      "54000/54000 [==============================] - 26s 484us/sample - loss: 0.0438 - acc: 0.9858 - val_loss: 0.0329 - val_acc: 0.9903\n",
      "Epoch 9/15\n",
      "54000/54000 [==============================] - 27s 501us/sample - loss: 0.0413 - acc: 0.9866 - val_loss: 0.0344 - val_acc: 0.9898\n",
      "Epoch 10/15\n",
      "54000/54000 [==============================] - 29s 537us/sample - loss: 0.0396 - acc: 0.9873 - val_loss: 0.0309 - val_acc: 0.9922\n",
      "Epoch 11/15\n",
      "54000/54000 [==============================] - 25s 456us/sample - loss: 0.0369 - acc: 0.9883 - val_loss: 0.0301 - val_acc: 0.9925\n",
      "Epoch 12/15\n",
      "54000/54000 [==============================] - 24s 442us/sample - loss: 0.0350 - acc: 0.9891 - val_loss: 0.0301 - val_acc: 0.9915\n",
      "Epoch 13/15\n",
      "54000/54000 [==============================] - 29s 533us/sample - loss: 0.0345 - acc: 0.9886 - val_loss: 0.0299 - val_acc: 0.9922\n",
      "Epoch 14/15\n",
      "54000/54000 [==============================] - 25s 471us/sample - loss: 0.0322 - acc: 0.9894 - val_loss: 0.0308 - val_acc: 0.9913\n",
      "Epoch 15/15\n",
      "54000/54000 [==============================] - 24s 440us/sample - loss: 0.0309 - acc: 0.9898 - val_loss: 0.0277 - val_acc: 0.9930\n"
     ]
    },
    {
     "data": {
      "text/plain": [
       "<tensorflow.python.keras.callbacks.History at 0x7ff1e6d59e10>"
      ]
     },
     "execution_count": 137,
     "metadata": {},
     "output_type": "execute_result"
    }
   ],
   "source": [
    "model.compile(loss=\"categorical_crossentropy\", optimizer=\"adam\", metrics=[\"accuracy\"])\n",
    "model.fit(x_train, y_train, batch_size=128, epochs=15, validation_split=0.1)"
   ]
  },
  {
   "cell_type": "code",
   "execution_count": null,
   "metadata": {
    "ExecuteTime": {
     "end_time": "2020-08-17T20:10:41.041321Z",
     "start_time": "2020-08-17T20:10:23.875Z"
    },
    "collapsed": true
   },
   "outputs": [],
   "source": [
    "score = model.evaluate(x_test, y_test, verbose=0)\n",
    "print(\"Test loss:\", score[0])\n",
    "print(\"Test accuracy:\", score[1])"
   ]
  },
  {
   "cell_type": "markdown",
   "metadata": {},
   "source": [
    "# Plot weight leading digit distribution vs. Benford's Law"
   ]
  },
  {
   "cell_type": "markdown",
   "metadata": {},
   "source": [
    "## First layer only"
   ]
  },
  {
   "cell_type": "code",
   "execution_count": 136,
   "metadata": {
    "ExecuteTime": {
     "end_time": "2020-08-17T20:39:34.790609Z",
     "start_time": "2020-08-17T20:39:34.442006Z"
    }
   },
   "outputs": [
    {
     "data": {
      "image/png": "[encoded data removed]",
      "text/plain": [
       "<Figure size 1440x720 with 1 Axes>"
      ]
     },
     "metadata": {},
     "output_type": "display_data"
    }
   ],
   "source": [
    "plot_benford_for_first_layer(\"BEFORE TRAINING: First layer weight distribution vs. Benford's Law distribution\")"
   ]
  },
  {
   "cell_type": "code",
   "execution_count": 138,
   "metadata": {
    "ExecuteTime": {
     "end_time": "2020-08-17T20:46:51.162230Z",
     "start_time": "2020-08-17T20:46:50.778468Z"
    }
   },
   "outputs": [
    {
     "data": {
      "image/png": "[encoded data removed]",
      "text/plain": [
       "<Figure size 1440x720 with 1 Axes>"
      ]
     },
     "metadata": {},
     "output_type": "display_data"
    }
   ],
   "source": [
    "plot_benford_for_first_layer(\"AFTER TRAINING: First layer weight distribution vs. Benford's Law distribution\")"
   ]
  },
  {
   "cell_type": "markdown",
   "metadata": {},
   "source": [
    "## All layers"
   ]
  },
  {
   "cell_type": "code",
   "execution_count": 159,
   "metadata": {
    "ExecuteTime": {
     "end_time": "2020-08-17T20:59:19.612848Z",
     "start_time": "2020-08-17T20:59:19.012488Z"
    }
   },
   "outputs": [
    {
     "data": {
      "image/png": "[encoded data removed]",
      "text/plain": [
       "<Figure size 1440x720 with 1 Axes>"
      ]
     },
     "metadata": {},
     "output_type": "display_data"
    }
   ],
   "source": [
    "plot_benford_for_all_layers(\"BEFORE TRAINING: All layers' weight distribution vs. Benford's Law distribution\")"
   ]
  },
  {
   "cell_type": "code",
   "execution_count": 157,
   "metadata": {
    "ExecuteTime": {
     "end_time": "2020-08-17T20:58:51.916642Z",
     "start_time": "2020-08-17T20:58:51.475061Z"
    }
   },
   "outputs": [
    {
     "data": {
      "image/png": "[encoded data removed]",
      "text/plain": [
       "<Figure size 1440x720 with 1 Axes>"
      ]
     },
     "metadata": {},
     "output_type": "display_data"
    }
   ],
   "source": [
    "plot_benford_for_all_layers(\"AFTER TRAINING: All layers' weight distribution vs. Benford's Law distribution\")"
   ]
  }
 ],
 "metadata": {
  "kernelspec": {
   "display_name": "Python 3",
   "language": "python",
   "name": "python3"
  },
  "language_info": {
   "codemirror_mode": {
    "name": "ipython",
    "version": 3
   },
   "file_extension": ".py",
   "mimetype": "text/x-python",
   "name": "python",
   "nbconvert_exporter": "python",
   "pygments_lexer": "ipython3",
   "version": "3.6.3"
  }
 },
 "nbformat": 4,
 "nbformat_minor": 2
}
